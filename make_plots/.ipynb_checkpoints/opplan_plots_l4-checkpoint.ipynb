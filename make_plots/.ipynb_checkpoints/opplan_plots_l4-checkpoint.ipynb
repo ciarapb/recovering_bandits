{
 "cells": [
  {
   "cell_type": "markdown",
   "metadata": {},
   "source": [
    "# Make plots of reward and average depth for the optimistic planning procedure in dRGP-TS"
   ]
  },
  {
   "cell_type": "code",
   "execution_count": null,
   "metadata": {},
   "outputs": [],
   "source": [
    "# import modules\n",
    "%matplotlib inline\n",
    "\n",
    "import matplotlib.pyplot as plt\n",
    "import matplotlib.colors as col\n",
    "from matplotlib import gridspec\n",
    "import numpy as np\n",
    "from pylab import figure, show, ylim, xlim\n",
    "import os\n",
    "import itertools\n",
    "from cycler import cycler\n"
   ]
  },
  {
   "cell_type": "code",
   "execution_count": null,
   "metadata": {},
   "outputs": [],
   "source": [
    "os.chdir('../saves/')"
   ]
  },
  {
   "cell_type": "code",
   "execution_count": null,
   "metadata": {},
   "outputs": [],
   "source": [
    "# load in data files for various l's\n",
    "rgpts_d4_K10 = {}\n",
    "rgpts_d8_K10 = {}\n",
    "rgpts_d4_K30 = {}\n",
    "for i in range(13):\n",
    "    if i<=11:\n",
    "        rgpts_d4_K10[i] = np.load('rgpts_opplan_l4_d4_K10_%d.npz' %i)\n",
    "        rgpts_d4_K30[i] = np.load('rgpts_opplan_l4_d4_K30_%d.npz' %i)\n",
    "    if i<=12:\n",
    "        rgpts_d8_K10[i] = np.load('rgpts_opplan_l4_d8_K10_%d.npz' %i)"
   ]
  },
  {
   "cell_type": "markdown",
   "metadata": {},
   "source": [
    "# Process data"
   ]
  },
  {
   "cell_type": "code",
   "execution_count": null,
   "metadata": {},
   "outputs": [],
   "source": [
    "# get reward data out of files\n",
    "cumrewRGPTS_d4_K10 = {}\n",
    "cumrewRGPTS_d8_K10 = {}\n",
    "cumrewRGPTS_d4_K30 = {}\n",
    "for i in range(13):\n",
    "    if i<=11:\n",
    "        cumrewRGPTS_d4_K10[i] = rgpts_d4_K10[i]['meancumrewRGPUCB']\n",
    "        cumrewRGPTS_d4_K30[i] = rgpts_d4_K30[i]['meancumrewRGPUCB']\n",
    "    if i<=12:\n",
    "        cumrewRGPTS_d8_K10[i] = rgpts_d8_K10[i]['meancumrewRGPUCB']\n"
   ]
  },
  {
   "cell_type": "code",
   "execution_count": null,
   "metadata": {},
   "outputs": [],
   "source": [
    "# get confidence bounds on reward out\n",
    "quantRewRGPTS_d4_K10 = {}\n",
    "quantRewRGPTS_d8_K10 = {}\n",
    "quantRewRGPTS_d4_K30 = {}\n",
    "for i in range(13):\n",
    "    if i <=11:\n",
    "        quantRewRGPTS_d4_K10[i] = rgpts_d4_K10[i]['quantCumRew'].item()\n",
    "        quantRewRGPTS_d4_K30[i] = rgpts_d4_K30[i]['quantCumRew'].item()\n",
    "    if i<=12:\n",
    "        quantRewRGPTS_d8_K10[i] = rgpts_d8_K10[i]['quantCumRew'].item()\n"
   ]
  },
  {
   "cell_type": "code",
   "execution_count": null,
   "metadata": {},
   "outputs": [],
   "source": [
    "# make mean vectors of reward to plot\n",
    "cumrewRGPTS_d4_K10_mean = np.array([cumrewRGPTS_d4_K10[key][-1] for key in cumrewRGPTS_d4_K10])\n",
    "cumrewRGPTS_d8_K10_mean = np.array([cumrewRGPTS_d8_K10[key][-1] for key in cumrewRGPTS_d8_K10])\n",
    "cumrewRGPTS_d4_K30_mean = np.array([cumrewRGPTS_d4_K30[key][-1] for key in cumrewRGPTS_d4_K30])"
   ]
  },
  {
   "cell_type": "code",
   "execution_count": null,
   "metadata": {},
   "outputs": [],
   "source": [
    "# make cb vectors of reward to plot\n",
    "# 5%\n",
    "cumrewRGPTS_d4_K10_05 = np.array([quantRewRGPTS_d4_K10[key]['5'][-1] for key in quantRewRGPTS_d4_K10])\n",
    "cumrewRGPTS_d8_K10_05 = np.array([quantRewRGPTS_d8_K10[key]['5'][-1] for key in quantRewRGPTS_d8_K10])\n",
    "cumrewRGPTS_d4_K30_05 = np.array([quantRewRGPTS_d4_K30[key]['5'][-1] for key in quantRewRGPTS_d4_K30])\n",
    "\n",
    "# 95%\n",
    "cumrewRGPTS_d4_K10_95 = np.array([quantRewRGPTS_d4_K10[key]['95'][-1] for key in quantRewRGPTS_d4_K10])\n",
    "cumrewRGPTS_d8_K10_95 = np.array([quantRewRGPTS_d8_K10[key]['95'][-1] for key in quantRewRGPTS_d8_K10])\n",
    "cumrewRGPTS_d4_K30_95 = np.array([quantRewRGPTS_d4_K30[key]['95'][-1] for key in quantRewRGPTS_d4_K30])"
   ]
  },
  {
   "cell_type": "code",
   "execution_count": null,
   "metadata": {},
   "outputs": [],
   "source": [
    "# get depth data from files\n",
    "myds_d4_K10 = {}\n",
    "myds_d8_K10 = {}\n",
    "myds_d4_K30 = {}\n",
    "for i in range(13):\n",
    "    if i<=11:\n",
    "        myds_d4_K10[i] = rgpts_d4_K10[i]['MYDS']\n",
    "        myds_d4_K30[i] = rgpts_d4_K30[i]['MYDS']\n",
    "    if i<=12:\n",
    "        myds_d8_K10[i] = rgpts_d8_K10[i]['MYDS']\n"
   ]
  },
  {
   "cell_type": "code",
   "execution_count": null,
   "metadata": {},
   "outputs": [],
   "source": [
    "# calculate average depths\n",
    "avgd_d4_K10 = np.array([np.mean(np.array(myds_d4_K10[key])) for key in myds_d4_K10])\n",
    "avgd_d8_K10 = np.array([np.mean(np.array(myds_d8_K10[key])) for key in myds_d8_K10])\n",
    "avgd_d4_K30 = np.array([np.mean(np.array(myds_d4_K30[key])) for key in myds_d4_K30])"
   ]
  },
  {
   "cell_type": "markdown",
   "metadata": {},
   "source": [
    "# Make plots of reward and average d\n",
    "## d=4 K=10"
   ]
  },
  {
   "cell_type": "code",
   "execution_count": null,
   "metadata": {},
   "outputs": [],
   "source": [
    "# make plots for d4 K10\n",
    "xvals = np.array([100,500,1000,2000,3000,4000,5000,6000,7000,8000,9000,10000])\n",
    "\n",
    "fig = plt.figure(figsize=(8, 6))\n",
    "# set height ratios for sublots\n",
    "gs = gridspec.GridSpec(2, 1, height_ratios=[2, 1]) \n",
    "\n",
    "# first subplot\n",
    "ax0 = plt.subplot(gs[0])\n",
    "\n",
    "ax0.plot(xvals, cumrewRGPTS_d4_K10_05, linewidth=1, color='#1f77b4')\n",
    "ax0.plot(xvals, cumrewRGPTS_d4_K10_mean, label=\"2RGP-TS\", linewidth=4, color='#1f77b4')\n",
    "ax0.plot(xvals, cumrewRGPTS_d4_K10_95, linewidth=1, color='#1f77b4')\n",
    "ax0.fill_between(xvals, cumrewRGPTS_d4_K10_05, cumrewRGPTS_d4_K10_95, facecolor='#1f77b4',\n",
    "                  alpha=0.4)\n",
    "\n",
    "#the second subplot\n",
    "# shared axis X\n",
    "ax1 = plt.subplot(gs[1], sharex = ax0)\n",
    "ax1.plot(xvals, avgd_d4_K10, linewidth=4, color='#ff7f0e')\n",
    "plt.setp(ax0.get_xticklabels(), visible=False)\n",
    "# remove last tick label for the second subplot\n",
    "yticks = ax1.yaxis.get_major_ticks()\n",
    "yticks[-1].label1.set_visible(False)\n",
    "ax1.set_yticks(np.array([2.,3.,4.]))\n",
    "\n",
    "# add labels to axis\n",
    "ax0.set_ylabel('Total Reward \\n at $T=1000$', fontsize=22)\n",
    "ax1.set_ylabel('Average $d_N$', fontsize=22)\n",
    "ax1.set_xlabel('Policies per Lookahead ($N$)', fontsize=22)\n",
    "ax1.xaxis.set_tick_params(labelsize=18,width=3,length=6)\n",
    "ax0.xaxis.set_tick_params(width=3,length=6)\n",
    "ax1.yaxis.set_tick_params(labelsize=18,width=3,length=6)\n",
    "ax0.yaxis.set_tick_params(labelsize=18,width=3,length=6)\n",
    "\n",
    "# remove vertical gap between subplots\n",
    "plt.subplots_adjust(hspace=.15)\n",
    "plt.show()"
   ]
  },
  {
   "cell_type": "code",
   "execution_count": null,
   "metadata": {},
   "outputs": [],
   "source": [
    "fig.savefig(\"/figures/opplan_l4_d4_K10.pdf\",bbox_inches='tight')"
   ]
  },
  {
   "cell_type": "markdown",
   "metadata": {},
   "source": [
    "## d=8 K=10"
   ]
  },
  {
   "cell_type": "code",
   "execution_count": null,
   "metadata": {},
   "outputs": [],
   "source": [
    "# make plots for d8 K10\n",
    "xvals = np.array([100,500,1000,5000,10000,20000,30000,40000,50000,60000,70000,80000,90000])#,100000])\n",
    "\n",
    "fig = plt.figure(figsize=(8, 6))\n",
    "# set height ratios for sublots\n",
    "gs = gridspec.GridSpec(2, 1, height_ratios=[2, 1]) \n",
    "\n",
    "# first subplot\n",
    "ax0 = plt.subplot(gs[0])\n",
    "\n",
    "ax0.plot(xvals, cumrewRGPTS_d8_K10_05, linewidth=1, color='#1f77b4')\n",
    "ax0.plot(xvals, cumrewRGPTS_d8_K10_mean, label=\"2RGP-TS\", linewidth=4, color='#1f77b4')\n",
    "ax0.plot(xvals, cumrewRGPTS_d8_K10_95, linewidth=1, color='#1f77b4')\n",
    "ax0.fill_between(xvals, cumrewRGPTS_d8_K10_05, cumrewRGPTS_d8_K10_95, facecolor='#1f77b4',\n",
    "                  alpha=0.4)\n",
    "\n",
    "#the second subplot\n",
    "# shared axis X\n",
    "ax1 = plt.subplot(gs[1], sharex = ax0)\n",
    "ax1.plot(xvals, avgd_d8_K10, linewidth=4, color='#ff7f0e')\n",
    "plt.setp(ax0.get_xticklabels(), visible=False)\n",
    "# remove last tick label for the second subplot\n",
    "yticks = ax1.yaxis.get_major_ticks()\n",
    "yticks[-1].label1.set_visible(False)\n",
    "ax1.set_yticks(np.array([2.,4.,6.,8.]))\n",
    "ax1.set_yticks(np.array([3.,5.,7.]), minor=True)\n",
    "\n",
    "# add labels to axis\n",
    "ax0.set_ylabel('Total Reward \\n at $T=1000$', fontsize=22)\n",
    "ax1.set_ylabel('Average $d_N$', fontsize=22)\n",
    "ax1.set_xlabel('Policies per Lookahead ($N$)', fontsize=22)\n",
    "ax1.xaxis.set_tick_params(labelsize=18,width=3,length=6)\n",
    "ax0.xaxis.set_tick_params(width=3,length=6)\n",
    "ax1.yaxis.set_tick_params(labelsize=18,width=3,length=6, which='both')\n",
    "ax0.yaxis.set_tick_params(labelsize=18,width=3,length=6)\n",
    "\n",
    "# remove vertical gap between subplots\n",
    "plt.subplots_adjust(hspace=.15)\n",
    "plt.show()"
   ]
  },
  {
   "cell_type": "code",
   "execution_count": null,
   "metadata": {},
   "outputs": [],
   "source": [
    "fig.savefig(\"/figures/opplan_l4_d8_K10.pdf\",bbox_inches='tight')"
   ]
  },
  {
   "cell_type": "code",
   "execution_count": null,
   "metadata": {},
   "outputs": [],
   "source": [
    "# make plots for d4 K30\n",
    "xvals = np.array([100,500,1000,5000,10000,20000,25000,30000,35000,40000,45000,50000])\n",
    "\n",
    "fig = plt.figure(figsize=(8, 6))\n",
    "# set height ratios for sublots\n",
    "gs = gridspec.GridSpec(2, 1, height_ratios=[2, 1]) \n",
    "\n",
    "# first subplot\n",
    "ax0 = plt.subplot(gs[0])\n",
    "\n",
    "ax0.plot(xvals, cumrewRGPTS_d4_K30_05, linewidth=1, color='#1f77b4')\n",
    "ax0.plot(xvals, cumrewRGPTS_d4_K30_mean, label=\"2RGP-TS\", linewidth=4, color='#1f77b4')\n",
    "ax0.plot(xvals, cumrewRGPTS_d4_K30_95, linewidth=1, color='#1f77b4')\n",
    "ax0.fill_between(xvals, cumrewRGPTS_d4_K30_05, cumrewRGPTS_d4_K30_95, facecolor='#1f77b4',\n",
    "                  alpha=0.4)\n",
    "\n",
    "#the second subplot\n",
    "# shared axis X\n",
    "ax1 = plt.subplot(gs[1], sharex = ax0)\n",
    "ax1.plot(xvals, avgd_d4_K30, linewidth=4, color='#ff7f0e')\n",
    "plt.setp(ax0.get_xticklabels(), visible=False)\n",
    "# remove last tick label for the second subplot\n",
    "yticks = ax1.yaxis.get_major_ticks()\n",
    "yticks[-1].label1.set_visible(False)\n",
    "ax1.set_yticks(np.array([1.,2.,3.,4.]))\n",
    "\n",
    "# add labels to axis\n",
    "ax0.set_ylabel('Total Reward \\n at $T=1000$', fontsize=22)\n",
    "ax1.set_ylabel('Average $d_N$', fontsize=22)\n",
    "ax1.set_xlabel('Policies per Lookahead ($N$)', fontsize=22)\n",
    "ax1.xaxis.set_tick_params(labelsize=18,width=3,length=6)\n",
    "ax0.xaxis.set_tick_params(width=3,length=6)\n",
    "ax1.yaxis.set_tick_params(labelsize=18,width=3,length=6)\n",
    "ax0.yaxis.set_tick_params(labelsize=18,width=3,length=6)\n",
    "\n",
    "# remove vertical gap between subplots\n",
    "plt.subplots_adjust(hspace=.15)\n",
    "plt.show()"
   ]
  },
  {
   "cell_type": "code",
   "execution_count": null,
   "metadata": {},
   "outputs": [],
   "source": [
    "fig.savefig(\"/figures/opplan_l4_d4_K30.pdf\",bbox_inches='tight')"
   ]
  },
  {
   "cell_type": "code",
   "execution_count": null,
   "metadata": {},
   "outputs": [],
   "source": []
  }
 ],
 "metadata": {
  "anaconda-cloud": {},
  "kernelspec": {
   "display_name": "Python 3",
   "language": "python",
   "name": "python3"
  },
  "language_info": {
   "codemirror_mode": {
    "name": "ipython",
    "version": 3
   },
   "file_extension": ".py",
   "mimetype": "text/x-python",
   "name": "python",
   "nbconvert_exporter": "python",
   "pygments_lexer": "ipython3",
   "version": "3.7.1"
  }
 },
 "nbformat": 4,
 "nbformat_minor": 1
}
