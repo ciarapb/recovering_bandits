{
 "cells": [
  {
   "cell_type": "markdown",
   "metadata": {},
   "source": [
    "# Make plots of posterior and covariates for 1RGP-TS"
   ]
  },
  {
   "cell_type": "code",
   "execution_count": null,
   "metadata": {},
   "outputs": [],
   "source": [
    "# import modules\n",
    "%matplotlib inline\n",
    "\n",
    "import matplotlib.pyplot as plt\n",
    "import matplotlib.colors as col\n",
    "from matplotlib import gridspec\n",
    "from operator import attrgetter\n",
    "from operator import itemgetter\n",
    "import GPy\n",
    "import numpy as np\n",
    "import itertools\n",
    "from pylab import figure, show, ylim, xlim\n",
    "import os\n"
   ]
  },
  {
   "cell_type": "code",
   "execution_count": null,
   "metadata": {},
   "outputs": [],
   "source": [
    "import matplotlib\n",
    "matplotlib.rc('xtick', labelsize=16) \n",
    "matplotlib.rc('ytick', labelsize=16) "
   ]
  },
  {
   "cell_type": "code",
   "execution_count": null,
   "metadata": {},
   "outputs": [],
   "source": [
    "# load in gp setup\n",
    "import setups.rgp_gp_l5_setup as rgp \n",
    "import setups.rgp_gp_l2_setup as rgp2 \n",
    "import setups.rgp_gp_l05_setup as rgp05 \n",
    "import functs.rgpts_functs as f"
   ]
  },
  {
   "cell_type": "markdown",
   "metadata": {},
   "source": [
    "## RGP-TS sqe l=5"
   ]
  },
  {
   "cell_type": "code",
   "execution_count": null,
   "metadata": {},
   "outputs": [],
   "source": [
    "# get arms\n",
    "# set the seed\n",
    "np.random.seed(5389)\n",
    "\n",
    "# define parameters\n",
    "K = rgp.K\n",
    "Z = rgp.maxwait\n",
    "\n",
    "# take the arms set from rgp\n",
    "Arms = rgp.Arms\n",
    "\n",
    "# initialize z's at 0\n",
    "for arm in Arms:\n",
    "    arm.z=0.\n",
    "\n",
    "[arm.reset() for arm in Arms]"
   ]
  },
  {
   "cell_type": "code",
   "execution_count": null,
   "metadata": {},
   "outputs": [],
   "source": [
    "# run the algorithm once\n",
    "reg, rew = f.RGPTS(1000, Arms, K, Z)\n",
    "cumreg = np.cumsum(reg)"
   ]
  },
  {
   "cell_type": "code",
   "execution_count": null,
   "metadata": {
    "scrolled": true
   },
   "outputs": [],
   "source": [
    "# make plots of output\n",
    "z = np.arange(0, Z+1, 1)\n",
    "\n",
    "fig, axes = plt.subplots(2, 5, sharex='col', sharey='row',figsize=(16,6))\n",
    "plt.setp(axes, xticks=[0, 5, 10, 15, 20, 25, 30], yticks=[-3,-2,-1,0,1,2,3])\n",
    "\n",
    "# plot first row\n",
    "for arm in Arms[0:5]:\n",
    "    i = arm.index\n",
    "    arm.model.plot(plot_density=True, ax=axes[0,i], legend=False, plot_limits=(-0.5,30.5), ylim=(-3,3))\n",
    "    axes[0,i].plot(z, [arm.rewfunct(i) for i in z], color=\"red\")\n",
    "\n",
    "# plot second row\n",
    "for arm in Arms[5:10]:\n",
    "    i = arm.index\n",
    "    arm.model.plot(plot_density=True, ax=axes[1,i-5], legend=False, plot_limits=(-0.5,30.5), ylim=(-3,3))\n",
    "    axes[1,i-5].plot(z, [arm.rewfunct(i) for i in z], color=\"red\")\n",
    "\n",
    "# add axes labels\n",
    "fig.text(0.5, 0.03, '$z$', fontsize=20, ha='center')\n",
    "fig.text(0.06, 0.5, '$f_j(z)$', fontsize=20, va='center')"
   ]
  },
  {
   "cell_type": "code",
   "execution_count": null,
   "metadata": {},
   "outputs": [],
   "source": [
    "fig.savefig(\"/figures/posterior_gp_ts_l5.pdf\",bbox_inches='tight')"
   ]
  },
  {
   "cell_type": "markdown",
   "metadata": {},
   "source": [
    "## RGP-TS sqe l=2"
   ]
  },
  {
   "cell_type": "code",
   "execution_count": null,
   "metadata": {},
   "outputs": [],
   "source": [
    "# get arms\n",
    "# set the seed\n",
    "np.random.seed(5389)\n",
    "\n",
    "# define parameters\n",
    "K = rgp2.K\n",
    "Z = rgp2.maxwait\n",
    "\n",
    "# take the arms set from rgp\n",
    "Arms = rgp2.Arms\n",
    "[arm.reset() for arm in Arms]\n",
    "\n",
    "# initialize z's at 0\n",
    "for arm in Arms:\n",
    "    arm.z=0."
   ]
  },
  {
   "cell_type": "code",
   "execution_count": null,
   "metadata": {},
   "outputs": [],
   "source": [
    "# run the algorithm once\n",
    "np.random.seed(8561)\n",
    "reg, rew = f.RGPTS(1000, Arms, K, Z)\n",
    "cumreg = np.cumsum(reg)"
   ]
  },
  {
   "cell_type": "code",
   "execution_count": null,
   "metadata": {},
   "outputs": [],
   "source": [
    "# make plots of output\n",
    "z = np.arange(0, Z+1, 1)\n",
    "\n",
    "fig, axes = plt.subplots(2, 5, sharex='col', sharey='row',figsize=(16,6))\n",
    "plt.setp(axes, xticks=[0, 5, 10, 15, 20, 25, 30], yticks=[-3,-2,-1,0,1,2,3])\n",
    "\n",
    "\n",
    "# plot first row\n",
    "for arm in Arms[0:5]:\n",
    "    i = arm.index\n",
    "    arm.model.plot(plot_density=True, ax=axes[0,i], legend=False, plot_limits=(-0.5,30.5), ylim=(-3,3))\n",
    "    axes[0,i].plot(z, [arm.rewfunct(i) for i in z], color=\"red\")\n",
    "\n",
    "# plot second row\n",
    "for arm in Arms[5:10]:\n",
    "    i = arm.index\n",
    "    arm.model.plot(plot_density=True, ax=axes[1,i-5], legend=False, plot_limits=(-0.5,30.5), ylim=(-3,3))\n",
    "    axes[1,i-5].plot(z, [arm.rewfunct(i) for i in z], color=\"red\")\n",
    "\n",
    "# add axes labels\n",
    "fig.text(0.5, 0.03, '$z$', fontsize=20, ha='center')\n",
    "fig.text(0.06, 0.5, '$f_j(z)$', fontsize=20, va='center')"
   ]
  },
  {
   "cell_type": "code",
   "execution_count": null,
   "metadata": {},
   "outputs": [],
   "source": [
    "fig.savefig(\"/figures/posterior_gp_ts_l2.pdf\",bbox_inches='tight')"
   ]
  },
  {
   "cell_type": "markdown",
   "metadata": {},
   "source": [
    "## rgpucb sqe l=0.5 "
   ]
  },
  {
   "cell_type": "code",
   "execution_count": null,
   "metadata": {},
   "outputs": [],
   "source": [
    "# get arms\n",
    "# set the seed\n",
    "np.random.seed(5389)\n",
    "\n",
    "# define parameters\n",
    "K = rgp05.K\n",
    "Z = rgp05.maxwait\n",
    "\n",
    "# take the arms set from rgp\n",
    "Arms = rgp05.Arms\n",
    "[arm.reset() for arm in Arms]\n",
    "\n",
    "# initialize z's at 0\n",
    "for arm in Arms:\n",
    "    arm.z=0."
   ]
  },
  {
   "cell_type": "code",
   "execution_count": null,
   "metadata": {},
   "outputs": [],
   "source": [
    "# run the algorithm once\n",
    "np.random.seed(3493)\n",
    "reg, rew = f.RGPTS(1000, Arms, K, Z)\n",
    "cumreg = np.cumsum(reg)"
   ]
  },
  {
   "cell_type": "code",
   "execution_count": null,
   "metadata": {},
   "outputs": [],
   "source": [
    "# make plots of output\n",
    "z = np.arange(0, Z+1, 1)\n",
    "\n",
    "fig, axes = plt.subplots(2, 5, sharex='col', sharey='row',figsize=(16,6))\n",
    "plt.setp(axes, xticks=[0, 5, 10, 15, 20, 25, 30], yticks=[-3,-2,-1,0,1,2,3])\n",
    "\n",
    "\n",
    "# plot first row\n",
    "for arm in Arms[0:5]:\n",
    "    i = arm.index\n",
    "    arm.model.plot(plot_density=True, ax=axes[0,i], legend=False, plot_limits=(-0.5,30.5), ylim=(-3,3))\n",
    "    axes[0,i].plot(z, [arm.rewfunct(i) for i in z], color=\"red\")\n",
    "\n",
    "# plot second row\n",
    "for arm in Arms[5:10]:\n",
    "    i = arm.index\n",
    "    arm.model.plot(plot_density=True, ax=axes[1,i-5], legend=False, plot_limits=(-0.5,30.5), ylim=(-3,3))\n",
    "    axes[1,i-5].plot(z, [arm.rewfunct(i) for i in z], color=\"red\")\n",
    "\n",
    "# add axes labels\n",
    "fig.text(0.5, 0.03, '$z$', fontsize=20, ha='center')\n",
    "fig.text(0.06, 0.5, '$f_j(z)$', fontsize=20, va='center')"
   ]
  },
  {
   "cell_type": "code",
   "execution_count": null,
   "metadata": {},
   "outputs": [],
   "source": [
    "fig.savefig(\"/figures/posterior_gp_ts_l05.pdf\",bbox_inches='tight')"
   ]
  },
  {
   "cell_type": "code",
   "execution_count": null,
   "metadata": {},
   "outputs": [],
   "source": []
  }
 ],
 "metadata": {
  "anaconda-cloud": {},
  "kernelspec": {
   "display_name": "Python 3",
   "language": "python",
   "name": "python3"
  },
  "language_info": {
   "codemirror_mode": {
    "name": "ipython",
    "version": 3
   },
   "file_extension": ".py",
   "mimetype": "text/x-python",
   "name": "python",
   "nbconvert_exporter": "python",
   "pygments_lexer": "ipython3",
   "version": "3.7.1"
  }
 },
 "nbformat": 4,
 "nbformat_minor": 1
}
